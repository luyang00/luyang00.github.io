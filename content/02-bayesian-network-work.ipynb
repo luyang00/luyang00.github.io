{
 "cells": [
  {
   "cell_type": "markdown",
   "metadata": {},
   "source": [
    "# Inference and Reasoning with Bayesian Networks"
   ]
  },
  {
   "cell_type": "markdown",
   "metadata": {},
   "source": [
    "###### COMP4670/8600 - Introduction to Statistical Machine Learning - Assignment 2"
   ]
  },
  {
   "cell_type": "markdown",
   "metadata": {},
   "source": [
    "Name: Yang Lu\n",
    "\n",
    "Student ID: u6274652"
   ]
  },
  {
   "cell_type": "markdown",
   "metadata": {},
   "source": [
    "## Instructions\n",
    "\n",
    "|             |Notes|\n",
    "|:------------|:--|\n",
    "|Maximum marks| 19|\n",
    "|Weight|19% of final grade|\n",
    "|Format| Complete this ipython notebook. Do not forget to fill in your name and student ID above|\n",
    "|Submission mode| Use [wattle](https://wattle.anu.edu.au/)|\n",
    "|Formulas| All formulas which you derive need to be explained unless you use very common mathematical facts. Picture yourself as explaining your arguments to somebody who is just learning about your assignment. With other words, do not assume that the person marking your assignment knows all the background and therefore you can just write down the formulas without any explanation. It is your task to convince the reader that you know what you are doing when you derive an argument. Typeset all formulas in $\\LaTeX$.|\n",
    "| Code quality | Python code should be well structured, use meaningful identifiers for variables and subroutines, and provide sufficient comments. Please refer to the examples given in the tutorials. |\n",
    "| Code efficiency | An efficient implementation of an algorithm uses fast subroutines provided by the language or additional libraries. For the purpose of implementing Machine Learning algorithms in this course, that means using the appropriate data structures provided by Python and in numpy/scipy (e.g. Linear Algebra and random generators). |\n",
    "| Cooperation | All assignments must be done individually. Cheating and plagiarism will be dealt with in accordance with University procedures (please see the ANU policies on [Academic Honesty and Plagiarism](http://academichonesty.anu.edu.au)). Hence, for example, code for programming assignments must not be developed in groups, nor should code be shared. You are encouraged to broadly discuss ideas, approaches and techniques with a few other students, but not at a level of detail where specific solutions or implementation issues are described by anyone. If you choose to consult with other students, you will include the names of your discussion partners for each solution. If you have any questions on this, please ask the lecturer before you act. |"
   ]
  },
  {
   "cell_type": "markdown",
   "metadata": {},
   "source": [
    "$\\newcommand{\\dotprod}[2]{\\left\\langle #1, #2 \\right\\rangle}$\n",
    "$\\newcommand{\\onevec}{\\mathbb{1}}$\n",
    "\n",
    "Setting up the environment (there is some hidden latex which needs to be run in this cell)."
   ]
  },
  {
   "cell_type": "code",
   "execution_count": 1,
   "metadata": {
    "collapsed": false
   },
   "outputs": [],
   "source": [
    "import itertools, copy\n",
    "import matplotlib.pyplot as plt\n",
    "import numpy as np\n",
    "from IPython.display import display, Image\n",
    "\n",
    "%matplotlib inline"
   ]
  },
  {
   "cell_type": "markdown",
   "metadata": {},
   "source": [
    "## Part 1: Graphical Models\n",
    "\n",
    "### Problem setting\n",
    "\n",
    "We are interested to predict the outcome of the election in an imaginary country, called Under Some Assumptions (USA). There are four candidates for whom the citizens can **Vote** for: Bernie, Donald, Hillary, and Ted. The citizens live in four **Region**s: north, south, east and west. We have general demographic information about the people, namely: **Gender** (male, female) and **Hand**edness (right, left). Based on surveys done by an external company, we believe that the **Region** and **Gender** affects whether the people use their **Jacket**s full time, part time or never. Surprisingly, the company told us that the **Age** of their shoes (new, worn, old) depends on how often they wear their **Jacket**s. Furthermore, the **Gender** and their preferred **Hand** affects the **Colour** of their hat (white, black). Finally, surveys say that the citizens will **Vote** based on their **Region**, **Age** of their shoes and **Colour** of their hats.\n",
    "\n",
    "The directed graphical model is depicted below:"
   ]
  },
  {
   "cell_type": "code",
   "execution_count": 2,
   "metadata": {
    "collapsed": false
   },
   "outputs": [
    {
     "data": {
      "text/html": [
       "<img src=\"https://machlearn.gitlab.io/isml2017/assignments/election_model.png\"/>"
      ],
      "text/plain": [
       "<IPython.core.display.Image object>"
      ]
     },
     "execution_count": 2,
     "metadata": {},
     "output_type": "execute_result"
    }
   ],
   "source": [
    "Image(url=\"https://machlearn.gitlab.io/isml2017/assignments/election_model.png\")"
   ]
  },
  {
   "cell_type": "markdown",
   "metadata": {},
   "source": [
    "### Conditional probability tables\n",
    "\n",
    "After paying the survey firm some more money, they provided the following conditional probability tables.\n",
    "\n",
    "|$p(R)$ | R=n | R=s | R=e | R=w |\n",
    "|:-----:|:--:|:--:|:--:|:--:|\n",
    "|marginal| 0.2 | 0.1 | 0.5 | 0.2 |\n",
    "\n",
    "|$p(G)$ | G=m | G=f |\n",
    "|:-----:|:--:|:--:|\n",
    "|marginal| 0.3 | 0.7 |\n",
    "\n",
    "|$p(H)$ | H=r | H=l |\n",
    "|:-----:|:--:|:--:|\n",
    "|marginal| 0.9 | 0.1 |\n",
    "\n",
    "| $p(J|R,G)$ | R=n,G=m | R=n,G=f | R=s,G=m | R=s,G=f | R=e,G=m | R=e,G=f | R=w,G=m | R=w,G=f |\n",
    "|:-----:|:--:|:--:|:--:|:--:|:--:|:--:|:--:|:--:|\n",
    "|**J**=full $\\quad$  |0.9 |0.8 |0.1 | 0.3 |0.4 |0.01| 0.02 | 0.2  |\n",
    "|**J**=part $\\quad$  |0.08|0.17|0.03| 0.35|0.05|0.01| 0.2  | 0.08 |\n",
    "|**J**=never $\\quad$ |0.02|0.03|0.87| 0.35|0.55|0.98| 0.78 | 0.72 |\n",
    "\n",
    "| $p(A|J)$ | J=full | J=part | J=never |\n",
    "|:-----:|:--:|:--:|:--:|\n",
    "|**A**=new  |0.01|0.96|0.3|\n",
    "|**A**=worn |0.98|0.03|0.5|\n",
    "|**A**=old  |0.01|0.01|0.2|\n",
    "\n",
    "| $p(C|G,H)$ | G=m,H=r | G=m,H=l | G=f,H=r | G=f,H=l |\n",
    "|:-----:|:--:|:--:|:--:|:--:|\n",
    "|**C**=black $\\quad$ |0.9 |0.83 |0.17 | 0.3 |\n",
    "|**C**=white $\\quad$ |0.1 |0.17|0.83 | 0.7 |\n",
    "\n",
    "The final conditional probability table is given by the matrix below. The order of the rows and columns are also given below."
   ]
  },
  {
   "cell_type": "code",
   "execution_count": 3,
   "metadata": {
    "collapsed": true
   },
   "outputs": [],
   "source": [
    "vote_column_names = ['north,new,black', 'north,new,white', 'north,worn,black', 'north,worn,white', \n",
    "                'north,old,black', 'north,old,white', 'south,new,black', 'south,new,white', \n",
    "                'south,worn,black', 'south,worn,white', 'south,old,black', 'south,old,white', \n",
    "                'east,new,black', 'east,new,white', 'east,worn,black', 'east,worn,white', \n",
    "                'east,old,black', 'east,old,white', 'west,new,black', 'west,new,white', \n",
    "                'west,worn,black', 'west,worn,white', 'west,old,black', 'west,old,white']\n",
    "\n",
    "vote_outcomes = ('bernie','donald','hillary','ted')\n",
    "\n",
    "vote_pmf_array = np.array(\n",
    "        [\n",
    "            [0.1,0.1,0.4,0.02,0.2,0.1,0.1,0.04,0.2,0.1,0.1 ,0.1,0.4 ,0.1 ,0.1,0.1 ,0.1,0.04,0.3,0.2,0.1,0.3,0.34,0.35],\n",
    "            [0.3,0.4,0.2,0.5 ,0.1,0.2,0.1,0.5 ,0.1,0.2,0.5 ,0.3,0.2 ,0.42,0.2,0.67,0.4,0.4 ,0.1,0.1,0.5,0.1,0.1 ,0.1],\n",
    "            [0.5,0.4,0.3,0.3 ,0.5,0.6,0.6,0.3 ,0.5,0.4,0.36,0.3,0.28,0.3 ,0.4,0.1 ,0.4,0.16,0.4,0.2,0.3,0.3,0.4 ,0.5],\n",
    "            [0.1,0.1,0.1,0.18,0.2,0.1,0.2,0.16,0.2,0.3,0.04,0.3,0.12,0.18,0.3,0.13,0.1,0.4 ,0.2,0.5,0.1,0.3,0.16,0.05],\n",
    "        ]\n",
    ")"
   ]
  },
  {
   "cell_type": "markdown",
   "metadata": {},
   "source": [
    "The 7 conditional probability tables in are encoded in python below. \n",
    "\n",
    "**Base your subsequent computations on these objects**."
   ]
  },
  {
   "cell_type": "code",
   "execution_count": 4,
   "metadata": {
    "collapsed": false
   },
   "outputs": [],
   "source": [
    "class RandomVariable(object):\n",
    "    def __init__(self, name, parents, outcomes, pmf_array):\n",
    "        assert isinstance(name, str)\n",
    "        assert all(isinstance(_, RandomVariable) for _ in parents)\n",
    "        assert isinstance(outcomes, tuple)\n",
    "        assert all(isinstance(_, str) for _ in outcomes)\n",
    "        assert isinstance(parents, tuple)\n",
    "        assert isinstance(pmf_array, np.ndarray)\n",
    "        keys = tuple(map(tuple, itertools.product(*[_.outcomes for _ in parents])))\n",
    "        assert np.allclose(np.sum(pmf_array, 0), 1)\n",
    "        expected_shape = (len(outcomes), len(keys))\n",
    "        assert pmf_array.shape == expected_shape, (pmf_array.shape, expected_shape)\n",
    "        pmfs = {k: {outcome: probability for outcome, probability in zip(outcomes, probabilities)} \n",
    "                for k, probabilities in zip(keys, pmf_array.T)}\n",
    "        self.name, self.parents, self.outcomes, self.pmfs = name, parents, outcomes, pmfs\n",
    "\n",
    "\n",
    "class BayesianNetwork(object):\n",
    "    def __init__(self, *random_variables):\n",
    "        assert all(isinstance(_, RandomVariable) for _ in random_variables)\n",
    "        self.random_variables = random_variables\n",
    "        \n",
    "\n",
    "region_pmf_array = np.array([[0.2, 0.1, 0.5, 0.2]]).T\n",
    "region = RandomVariable(\n",
    "    name='region',\n",
    "    parents=tuple(),\n",
    "    outcomes=('north', 'south', 'east', 'west'), \n",
    "    pmf_array = region_pmf_array,\n",
    ")\n",
    "\n",
    "gender_pmf_array = np.array([[0.3, 0.7]]).T\n",
    "gender = RandomVariable(\n",
    "    name='gender',\n",
    "    parents=tuple(),\n",
    "    outcomes=('male', 'female'), \n",
    "    pmf_array = gender_pmf_array\n",
    ")\n",
    "\n",
    "hand_pmf_array = np.array([[0.9, 0.1]]).T\n",
    "hand = RandomVariable(\n",
    "    name='hand',\n",
    "    parents=tuple(),\n",
    "    outcomes=('left', 'right'), \n",
    "    pmf_array = hand_pmf_array\n",
    ")\n",
    "\n",
    "jacket_pmf_array = np.array(\n",
    "        [\n",
    "            [0.9,0.8,0.1,0.3,0.4,0.01,0.02,0.2],\n",
    "            [0.08,0.17,0.03,0.35,0.05,0.01,0.2,0.08],\n",
    "            [0.02,0.03,0.87,0.35,0.55,0.98,0.78,0.72],\n",
    "        ]\n",
    "    )\n",
    "jacket = RandomVariable(\n",
    "    name='jacket',\n",
    "    parents=(region, gender),\n",
    "    outcomes=('full', 'part', 'never'), \n",
    "    pmf_array = jacket_pmf_array\n",
    ")\n",
    "\n",
    "age_pmf_array = np.array(\n",
    "        [\n",
    "            [0.01,0.96,0.3],\n",
    "            [0.98,0.03,0.5],\n",
    "            [0.01,0.01,0.2],\n",
    "        ]\n",
    "    )\n",
    "age = RandomVariable(\n",
    "    name='age',\n",
    "    parents=(jacket, ),\n",
    "    outcomes=('new', 'worn', 'old'), \n",
    "    pmf_array = age_pmf_array\n",
    ")\n",
    "\n",
    "colour_pmf_array = np.array(\n",
    "        [\n",
    "            [0.9,0.83,0.17,0.3],\n",
    "            [0.1,0.17,0.83,0.7],\n",
    "        ]\n",
    "    )\n",
    "colour = RandomVariable(\n",
    "    name='colour',\n",
    "    parents=(gender, hand),\n",
    "    outcomes=('black', 'white'),\n",
    "    pmf_array = colour_pmf_array\n",
    ")\n",
    "\n",
    "vote = RandomVariable(\n",
    "    name='vote',\n",
    "    parents=(region, age, colour),\n",
    "    outcomes=vote_outcomes,\n",
    "    pmf_array = vote_pmf_array\n",
    ")\n",
    "\n",
    "\n",
    "election_model = BayesianNetwork(region, gender, hand, jacket, age, colour, vote)"
   ]
  },
  {
   "cell_type": "markdown",
   "metadata": {},
   "source": [
    "### 1A (1 mark) Joint distribution of a subset\n",
    "\n",
    "- Compute the joint distribution of **Jacket**, **Region** and **Gender**. Print in a tab separated format the resulting distribution."
   ]
  },
  {
   "cell_type": "code",
   "execution_count": 5,
   "metadata": {
    "collapsed": false
   },
   "outputs": [
    {
     "name": "stdout",
     "output_type": "stream",
     "text": [
      "p( full ,north , male )=0.05\n",
      "p( full ,north ,female)=0.11\n",
      "p( full ,south , male )=0.00\n",
      "p( full ,south ,female)=0.02\n",
      "p( full , east , male )=0.06\n",
      "p( full , east ,female)=0.00\n",
      "p( full , west , male )=0.00\n",
      "p( full , west ,female)=0.03\n",
      "p( part ,north , male )=0.00\n",
      "p( part ,north ,female)=0.02\n",
      "p( part ,south , male )=0.00\n",
      "p( part ,south ,female)=0.02\n",
      "p( part , east , male )=0.01\n",
      "p( part , east ,female)=0.00\n",
      "p( part , west , male )=0.01\n",
      "p( part , west ,female)=0.01\n",
      "p(never ,north , male )=0.00\n",
      "p(never ,north ,female)=0.00\n",
      "p(never ,south , male )=0.03\n",
      "p(never ,south ,female)=0.02\n",
      "p(never , east , male )=0.08\n",
      "p(never , east ,female)=0.34\n",
      "p(never , west , male )=0.05\n",
      "p(never , west ,female)=0.10\n"
     ]
    }
   ],
   "source": [
    "# Solution goes here\n",
    "#Compute the joint using itertools to give all the combination of outcomes\n",
    "for j, r, g in itertools.product(jacket.outcomes,region.outcomes,gender.outcomes):\n",
    "    print('p({:^6},{:^6},{:^6})={:^2.2f}'.format(j,r,g,jacket.pmfs[(r,g)][j]*region.pmfs[()][r]*gender.pmfs[()][g]))\n",
    "    #print('p(',j,r,g,')->',jacket.pmfs[(r,g)][j]*region.pmfs[()][r]*gender.pmfs[()][g])"
   ]
  },
  {
   "cell_type": "markdown",
   "metadata": {},
   "source": [
    "### 1B1 (2 marks) Variable Ordering\n",
    "\n",
    "1. Implement a function which determines an appropriate ordering of the variables for use in the following scheme:\n",
    "    - For the first node R, draw a sample from p(R).\n",
    "    - For each subsequent node, draw a sample from the conditional distribution $p(X \\,|\\, \\text{parents}(X))$ where $\\text{parents}(X)$ are the parents of the variable $X$ in the graphical model.\n",
    "- Use your function to compute such an ordering and print the result in a human friendly format."
   ]
  },
  {
   "cell_type": "code",
   "execution_count": 6,
   "metadata": {
    "collapsed": false
   },
   "outputs": [
    {
     "name": "stdout",
     "output_type": "stream",
     "text": [
      "The order is:\n",
      "0 region\n",
      "1 gender\n",
      "2 hand\n",
      "3 jacket\n",
      "4 colour\n",
      "5 age\n",
      "6 vote\n"
     ]
    }
   ],
   "source": [
    "#recursively traverse all parent node\n",
    "def check_parents(node,ordering):\n",
    "    \n",
    "    #if all parents in ordering, then add it to ordering \n",
    "    if set(node.parents) <= set(ordering) and node not in ordering:\n",
    "        ordering.append(node)\n",
    "    else:\n",
    "        for parent in node.parents:check_parents(parent,ordering)\n",
    "            \n",
    "#Draw a order using recursive method to make their parents exist before given an order\n",
    "def determine_order(model):\n",
    "    ordering=[]\n",
    "    unordered = set(list(model.random_variables))-set(ordering)\n",
    "    while unordered !=set():\n",
    "        check_parents(vote,ordering)\n",
    "        #remove visited nodes\n",
    "        unordered=set(model.random_variables)-set(ordering)\n",
    "    return tuple(ordering)\n",
    "\n",
    "print('The order is:')\n",
    "for order,sample in enumerate(determine_order(election_model)):\n",
    "    print(order,sample.name)\n"
   ]
  },
  {
   "cell_type": "markdown",
   "metadata": {},
   "source": [
    "### 1B2 (2 marks) Sampling\n",
    "\n",
    "1. Given the ordering you have determined above, implement the sampler described in the previous question. If you were unable to compute the ordering in the previous question, use ``ordering = (hand, region, gender, colour, jacket, age, vote)``.\n",
    "2. Draw a single sample and print the result in a human friendly format."
   ]
  },
  {
   "cell_type": "code",
   "execution_count": 7,
   "metadata": {
    "collapsed": false
   },
   "outputs": [
    {
     "name": "stdout",
     "output_type": "stream",
     "text": [
      "A sample of p(R) is: north\n",
      "A single sample by ordering is:\n",
      " {'region': 'east', 'gender': 'female', 'hand': 'left', 'jacket': 'never', 'colour': 'white', 'age': 'old', 'vote': 'ted'}\n"
     ]
    }
   ],
   "source": [
    "# Solution goes here\n",
    "#Using np.random.choice function to draw a sample based on its probility\n",
    "def sample_node(node,observed):\n",
    "    condition = []\n",
    "    for p in node.parents:\n",
    "        for n in observed:\n",
    "            if n in p.outcomes:\n",
    "                condition.append(n)\n",
    "    node_sample = np.random.choice(node.outcomes,p = [ node.pmfs[tuple(condition)][o] for o in node.outcomes])\n",
    "    observed.append(node_sample)\n",
    "    return node_sample\n",
    "\n",
    "#Draw all the R,J,H,G,A,C,V sample once a time\n",
    "def sample_allnodes(ordering):\n",
    "    observed = []\n",
    "    result = {}\n",
    "    observed = [sample_node(node,observed) for node in ordering ] \n",
    "    \n",
    "    for index ,node in enumerate(ordering):\n",
    "        result[node.name]=observed[index]\n",
    "    return result\n",
    "\n",
    "\n",
    "\n",
    "print('A sample of p(R) is:',sample_node(region,observed = []))\n",
    "\n",
    "ordering = determine_order(election_model)\n",
    "\n",
    "print('A single sample by ordering is:\\n',sample_allnodes(ordering))\n",
    "\n"
   ]
  },
  {
   "cell_type": "markdown",
   "metadata": {},
   "source": [
    "### 1B3 (2 marks) Marginals\n",
    "\n",
    "1. Calculate (and show in LaTeX) the marginal distribution for **Jacket**.\n",
    "- Implement a function which computes the marginal distribution of each variable. It should make use of the ordering used by your sampler.\n",
    "- Implement a function which takes a list of samples the model and computes the empirical marginal distribution of each variable.\n",
    "- Plot the theoretical and approximate marginals which you obtain along with the absolute percent error between the two, in the format below:"
   ]
  },
  {
   "cell_type": "raw",
   "metadata": {},
   "source": [
    "region\n",
    "outcome\texact\tapprox\terror (%)\n",
    "north\t0.20\t0.20\t0.4\n",
    "south\t0.10\t0.10\t0.1\n",
    "east\t0.50\t0.50\t0.4\n",
    "west\t0.20\t0.20\t0.6\n",
    "\n",
    "gender\n",
    "outcome\texact\tapprox\terror (%)\n",
    "male\t0.30\t0.30\t0.1\n",
    "female\t0.70\t0.70\t0.0\n",
    "\n",
    "etc."
   ]
  },
  {
   "cell_type": "markdown",
   "metadata": {},
   "source": [
    "####  1. Calculate (and show in LaTeX) the marginal distribution for **Jacket**.\n",
    "\n",
    "$p(J)=\\sum\\limits_{R,G,H,A,C}p(R)p(G)p(H)p(J\\,|\\,R,G)p(A\\,|\\,J)p(C\\,|\\,G,H)p(V\\,|\\,R,A,C)$"
   ]
  },
  {
   "cell_type": "markdown",
   "metadata": {},
   "source": [
    "####  2. Implement a function which computes the marginal distribution of each variable. It should make use of the ordering used by your sampler."
   ]
  },
  {
   "cell_type": "code",
   "execution_count": 8,
   "metadata": {
    "collapsed": false
   },
   "outputs": [],
   "source": [
    "# Solution goes here\n",
    "#Compute a node's probility \n",
    "def compute_node_probility(node,instance):\n",
    "    #if this node donot have parent node\n",
    "    if node.parents == ():\n",
    "        outcome = list(set(node.outcomes) & set(instance))\n",
    "        return node.pmfs[()][outcome[0]]\n",
    "    #have parents, compute conditional probability\n",
    "    for condition in itertools.product(*[parent.outcomes for parent in node.parents]):\n",
    "        #Check which one we want to compute \n",
    "        if (set(condition) & set(instance) == set(condition)):\n",
    "            outcome = list(set(node.outcomes) & set(instance))[0]\n",
    "            product = node.pmfs[condition][outcome]\n",
    "            return product\n",
    "\n",
    "#Compute one node maginal distribution e.g. p(G) or p(V) or P(C)\n",
    "def compute_onenode_marginal(ordering,node):\n",
    "    #Initialize the node we want to compute\n",
    "    result={name:0 for name in node.outcomes}\n",
    "    #For all joints we comopute there joint distribution and sum up it \n",
    "    for instance in itertools.product(*[n.outcomes for n in ordering]):\n",
    "        nodes_product = 1\n",
    "        for nodes in ordering:\n",
    "            nodes_product *= compute_node_probility(nodes,instance)\n",
    "        #Check which one we want to sum\n",
    "        out = list(set(node.outcomes) & set(instance))[0]\n",
    "        result[out] += nodes_product\n",
    "    return result\n",
    "\n",
    "#Compute several nodes' joint distribution e.g. p(G,H) or p(G,V,H)\n",
    "def compute_multinodes_marginal(ordering,nodes):\n",
    "    #Initialize the node we want to compute\n",
    "    result={joint:0 for joint in itertools.product(*[n.outcomes for n in nodes]) }\n",
    "    flatten = lambda *n: (e for a in n for e in (flatten(*a) if isinstance(a, (tuple, list)) else (a,))) \n",
    "    joint_outcomes = list(flatten([n.outcomes for n in nodes]))\n",
    "    \n",
    "    #For all joints we comopute there joint distribution and sum up it \n",
    "    for instance in itertools.product(*[n.outcomes for n in ordering]):\n",
    "        node_product = 1\n",
    "        for node in ordering:\n",
    "            node_product *= compute_node_probility(node,instance)\n",
    "        #Only sum up the one we interested in\n",
    "        out = set(instance) & set(joint_outcomes)\n",
    "        for r in result:\n",
    "            if set(r)==out:\n",
    "                result[r] += node_product   \n",
    "    return result\n",
    "\n"
   ]
  },
  {
   "cell_type": "markdown",
   "metadata": {},
   "source": [
    "#### 3.Implement a function which takes a list of samples the model and computes the empirical marginal distribution of each variable."
   ]
  },
  {
   "cell_type": "code",
   "execution_count": 9,
   "metadata": {
    "collapsed": false
   },
   "outputs": [],
   "source": [
    "# Solution goes here\n",
    "#Generate 100000 sample by sampler\n",
    "def compute_empirical_distribution(ordering):\n",
    "    samples = []\n",
    "    for i in range(10000):\n",
    "        samples.append(sample_allnodes(ordering))\n",
    "        \n",
    "    empirical_distribution={n.name: {x:0 for x in n.outcomes} for n in ordering}\n",
    "\n",
    "    for node_name in empirical_distribution:\n",
    "        for node_outcome in empirical_distribution[node_name]:    \n",
    "            count = 0\n",
    "            for sample in samples:\n",
    "                if sample[node_name] == node_outcome:\n",
    "                    count+=1\n",
    "            empirical_distribution[node_name][node_outcome] = count/len(samples)\n",
    "   \n",
    "    return empirical_distribution\n"
   ]
  },
  {
   "cell_type": "markdown",
   "metadata": {},
   "source": [
    "#### 4. Plot the theoretical and approximate marginals which you obtain along with the absolute percent error between the two"
   ]
  },
  {
   "cell_type": "code",
   "execution_count": 10,
   "metadata": {
    "collapsed": false
   },
   "outputs": [
    {
     "name": "stdout",
     "output_type": "stream",
     "text": [
      "region\n",
      "outcome exact   approx  error  \n",
      "north    0.20    0.20    1.05  \n",
      "south    0.10    0.10    1.00  \n",
      "east     0.50    0.50    0.12  \n",
      "west     0.20    0.20    1.85  \n",
      "\n",
      "\n",
      "gender\n",
      "outcome exact   approx  error  \n",
      "male     0.30    0.29    1.87  \n",
      "female   0.70    0.71    0.80  \n",
      "\n",
      "\n",
      "hand\n",
      "outcome exact   approx  error  \n",
      "left     0.90    0.90    0.33  \n",
      "right    0.10    0.10    3.00  \n",
      "\n",
      "\n",
      "jacket\n",
      "outcome exact   approx  error  \n",
      "full     0.28    0.28    0.50  \n",
      "part     0.09    0.08    5.22  \n",
      "never    0.63    0.63    0.51  \n",
      "\n",
      "\n",
      "colour\n",
      "outcome exact   approx  error  \n",
      "black    0.40    0.39    0.83  \n",
      "white    0.60    0.61    0.55  \n",
      "\n",
      "\n",
      "age\n",
      "outcome exact   approx  error  \n",
      "new      0.28    0.27    1.89  \n",
      "worn     0.59    0.60    1.14  \n",
      "old      0.13    0.13    1.18  \n",
      "\n",
      "\n",
      "vote\n",
      "outcome exact   approx  error  \n",
      "bernie   0.15    0.16    0.96  \n",
      "donald   0.35    0.34    0.82  \n",
      "hillary  0.30    0.29    1.52  \n",
      "ted      0.20    0.21    2.86  \n",
      "\n",
      "\n",
      "\n"
     ]
    }
   ],
   "source": [
    "#Compute order of election_model\n",
    "ordering = determine_order(election_model)\n",
    "#Compute the empirical_distribution\n",
    "empirical_marginal=compute_empirical_distribution(ordering)\n",
    "marginal={}\n",
    "#Compute the marginal distribution \n",
    "for node in ordering:\n",
    "    marginal[node.name] = compute_onenode_marginal(ordering,node)\n",
    "\n",
    "#Print in tables\n",
    "def print_table(marginal, empirical_marginal):\n",
    "    for m,em in zip(marginal,empirical_marginal):\n",
    "        print(m)\n",
    "        print('{:^7}{:^8}{:^8}{:^8}'.format('outcome','exact','approx','error'))\n",
    "        for pm,pem in zip(marginal[m],empirical_marginal[em]):\n",
    "            print('{:7}{:^8.2f}{:^8.2f}{:^8.2f}'.format(pm,marginal[m][pm],empirical_marginal[em][pem],abs(marginal[m][pm]-empirical_marginal[em][pem])/marginal[m][pm]*100))\n",
    "        print('\\n')\n",
    "    print()\n",
    "    \n",
    "print_table(marginal,empirical_marginal)"
   ]
  },
  {
   "cell_type": "markdown",
   "metadata": {},
   "source": [
    "### 1B4 (1 mark) Easy conditional probabilities\n",
    "\n",
    "Compute $p(X \\,|\\, G=\\text{female})$ for all $X$ other than $G$,\n",
    "1. Approximately, using your sampler\n",
    "- Exactly, using your marginal calculating function from the previous question. Hint: what happens if you set  $p(G=\\text{female})=1$ in your model?\n",
    "- Plot the results side by side in the same format as the previous question.\n",
    "- State for which variables other than $G$ the theoretical scheme above can be used to compute such conditionals, and why."
   ]
  },
  {
   "cell_type": "markdown",
   "metadata": {},
   "source": [
    "#### 1.Approximately, using your sampler"
   ]
  },
  {
   "cell_type": "code",
   "execution_count": 11,
   "metadata": {
    "collapsed": false
   },
   "outputs": [],
   "source": [
    "# Solution goes here\n",
    "#Compute a node's empirical probility\n",
    "def compute_empirical_X_givenG(nodeX):\n",
    "    samples = []\n",
    "    for i in range(10000):\n",
    "        samples.append(sample_allnodes(ordering))\n",
    "    x = {node_outcome : 0 for node_outcome in nodeX.outcomes}\n",
    "    g=0\n",
    "    for sample in samples:\n",
    "        if sample['gender'] == 'female':\n",
    "            g+=1\n",
    "            for node_outcome in x:\n",
    "\n",
    "                if node_outcome == sample[nodeX.name]:\n",
    "                    x[node_outcome]+=1\n",
    "    return {(node_outcome,'female') : x[node_outcome]/g for node_outcome in x}\n",
    "\n",
    "#Compute all nodes' empirical probility\n",
    "def compute_empirical_all_X_givenG(ordering):\n",
    "    result={}\n",
    "    for nodeX in ordering:\n",
    "        result[nodeX.name]=compute_empirical_X_givenG(nodeX)\n",
    "    del result['gender']\n",
    "    return result\n",
    "\n",
    "#calculate the approximate result by sampler\n",
    "empirical = compute_empirical_all_X_givenG(ordering)"
   ]
  },
  {
   "cell_type": "markdown",
   "metadata": {},
   "source": [
    "#### 2. Exactly, using your marginal calculating function from the previous question. "
   ]
  },
  {
   "cell_type": "code",
   "execution_count": 12,
   "metadata": {
    "collapsed": true
   },
   "outputs": [],
   "source": [
    "#Use hint, set p(female) =1 \n",
    "gender_pmf_array = np.array([[0, 1]]).T\n",
    "gender = RandomVariable(\n",
    "    name='gender',\n",
    "    parents=tuple(),\n",
    "    outcomes=('male', 'female'), \n",
    "    pmf_array = gender_pmf_array\n",
    ")\n",
    "gender.pmf_array = np.array([[0, 1]]).T\n",
    "jacket_pmf_array = np.array(\n",
    "        [\n",
    "            [0.9,0.8,0.1,0.3,0.4,0.01,0.02,0.2],\n",
    "            [0.08,0.17,0.03,0.35,0.05,0.01,0.2,0.08],\n",
    "            [0.02,0.03,0.87,0.35,0.55,0.98,0.78,0.72],\n",
    "        ]\n",
    "    )\n",
    "jacket = RandomVariable(\n",
    "    name='jacket',\n",
    "    parents=(region, gender),\n",
    "    outcomes=('full', 'part', 'never'), \n",
    "    pmf_array = jacket_pmf_array\n",
    ")\n",
    "\n",
    "age_pmf_array = np.array(\n",
    "        [\n",
    "            [0.01,0.96,0.3],\n",
    "            [0.98,0.03,0.5],\n",
    "            [0.01,0.01,0.2],\n",
    "        ]\n",
    "    )\n",
    "age = RandomVariable(\n",
    "    name='age',\n",
    "    parents=(jacket, ),\n",
    "    outcomes=('new', 'worn', 'old'), \n",
    "    pmf_array = age_pmf_array\n",
    ")\n",
    "\n",
    "colour_pmf_array = np.array(\n",
    "        [\n",
    "            [0.9,0.83,0.17,0.3],\n",
    "            [0.1,0.17,0.83,0.7],\n",
    "        ]\n",
    "    )\n",
    "colour = RandomVariable(\n",
    "    name='colour',\n",
    "    parents=(gender, hand),\n",
    "    outcomes=('black', 'white'),\n",
    "    pmf_array = colour_pmf_array\n",
    ")\n",
    "\n",
    "vote = RandomVariable(\n",
    "    name='vote',\n",
    "    parents=(region, age, colour),\n",
    "    outcomes=vote_outcomes,\n",
    "    pmf_array = vote_pmf_array\n",
    ")\n",
    "\n",
    "modified_election_model = BayesianNetwork(region, gender, hand, jacket, age, colour, vote)"
   ]
  },
  {
   "cell_type": "code",
   "execution_count": 13,
   "metadata": {
    "collapsed": false
   },
   "outputs": [],
   "source": [
    "#Comput joint distribution p(X,female)\n",
    "import collections\n",
    "ordering = determine_order(modified_election_model)\n",
    "def compute_marginal_X_givenG(ordering):\n",
    "    result = {}\n",
    "    del_male_result = collections.defaultdict(dict)\n",
    "    for node in ordering:\n",
    "        if node.name == 'gender':continue\n",
    "        result[node.name]=compute_multinodes_marginal(ordering,(node,gender))\n",
    "    for i in result:\n",
    "        for j in result[i]:\n",
    "            if j[1] =='male':continue\n",
    "            del_male_result[i][j]=result[i][j]\n",
    "    return del_male_result\n",
    "\n",
    "#Calculate p(X,female)\n",
    "marginal = compute_marginal_X_givenG(ordering)  "
   ]
  },
  {
   "cell_type": "code",
   "execution_count": 14,
   "metadata": {
    "collapsed": true
   },
   "outputs": [],
   "source": [
    "#Resume the model\n",
    "gender_pmf_array = np.array([[0.3, 0.7]]).T\n",
    "gender = RandomVariable(\n",
    "    name='gender',\n",
    "    parents=tuple(),\n",
    "    outcomes=('male', 'female'), \n",
    "    pmf_array = gender_pmf_array\n",
    ")\n",
    "gender.pmf_array = np.array([[0, 1]]).T\n",
    "jacket_pmf_array = np.array(\n",
    "        [\n",
    "            [0.9,0.8,0.1,0.3,0.4,0.01,0.02,0.2],\n",
    "            [0.08,0.17,0.03,0.35,0.05,0.01,0.2,0.08],\n",
    "            [0.02,0.03,0.87,0.35,0.55,0.98,0.78,0.72],\n",
    "        ]\n",
    "    )\n",
    "jacket = RandomVariable(\n",
    "    name='jacket',\n",
    "    parents=(region, gender),\n",
    "    outcomes=('full', 'part', 'never'), \n",
    "    pmf_array = jacket_pmf_array\n",
    ")\n",
    "\n",
    "age_pmf_array = np.array(\n",
    "        [\n",
    "            [0.01,0.96,0.3],\n",
    "            [0.98,0.03,0.5],\n",
    "            [0.01,0.01,0.2],\n",
    "        ]\n",
    "    )\n",
    "age = RandomVariable(\n",
    "    name='age',\n",
    "    parents=(jacket, ),\n",
    "    outcomes=('new', 'worn', 'old'), \n",
    "    pmf_array = age_pmf_array\n",
    ")\n",
    "\n",
    "colour_pmf_array = np.array(\n",
    "        [\n",
    "            [0.9,0.83,0.17,0.3],\n",
    "            [0.1,0.17,0.83,0.7],\n",
    "        ]\n",
    "    )\n",
    "colour = RandomVariable(\n",
    "    name='colour',\n",
    "    parents=(gender, hand),\n",
    "    outcomes=('black', 'white'),\n",
    "    pmf_array = colour_pmf_array\n",
    ")\n",
    "\n",
    "vote = RandomVariable(\n",
    "    name='vote',\n",
    "    parents=(region, age, colour),\n",
    "    outcomes=vote_outcomes,\n",
    "    pmf_array = vote_pmf_array\n",
    ")\n",
    "\n",
    "election_model = BayesianNetwork(region, gender, hand, jacket, age, colour, vote)"
   ]
  },
  {
   "cell_type": "code",
   "execution_count": 15,
   "metadata": {
    "collapsed": false
   },
   "outputs": [
    {
     "name": "stdout",
     "output_type": "stream",
     "text": [
      "region\n",
      "    outcome     exact   approx  error  \n",
      " north |female   0.20    0.20    1.27  \n",
      " south |female   0.10    0.10    3.51  \n",
      " east  |female   0.50    0.50    0.03  \n",
      " west  |female   0.20    0.20    0.56  \n",
      "\n",
      "\n",
      "hand\n",
      "    outcome     exact   approx  error  \n",
      " left  |female   0.90    0.90    0.18  \n",
      " right |female   0.10    0.10    1.62  \n",
      "\n",
      "\n",
      "jacket\n",
      "    outcome     exact   approx  error  \n",
      " full  |female   0.23    0.23    2.27  \n",
      " part  |female   0.09    0.09    5.26  \n",
      " never |female   0.67    0.68    0.09  \n",
      "\n",
      "\n",
      "colour\n",
      "    outcome     exact   approx  error  \n",
      " black |female   0.18    0.19    2.77  \n",
      " white |female   0.82    0.81    0.62  \n",
      "\n",
      "\n",
      "age\n",
      "    outcome     exact   approx  error  \n",
      "  new  |female   0.29    0.30    1.36  \n",
      " worn  |female   0.57    0.57    0.76  \n",
      "  old  |female   0.14    0.14    0.30  \n",
      "\n",
      "\n",
      "vote\n",
      "    outcome     exact   approx  error  \n",
      "bernie |female   0.13    0.13    0.52  \n",
      "donald |female   0.39    0.39    0.00  \n",
      "hillary|female   0.27    0.27    0.25  \n",
      "  ted  |female   0.21    0.21    0.65  \n",
      "\n",
      "\n",
      "\n"
     ]
    }
   ],
   "source": [
    "#Print in tables\n",
    "def print_table(marginal, empirical_marginal):\n",
    "    for m,em in zip(marginal,empirical_marginal):\n",
    "        print(m)\n",
    "        print('{:^15}{:^8}{:^8}{:^8}'.format('outcome','exact','approx','error'))\n",
    "        for pm,pem in zip(marginal[m],empirical_marginal[em]):\n",
    "            print('{:^7}|{:^7}{:^8.2f}{:^8.2f}{:^8.2f}'.format(pm[0],pm[1],marginal[m][pm],empirical_marginal[em][pem],abs(marginal[m][pm]-empirical_marginal[em][pem])/marginal[m][pm]*100))\n",
    "        print('\\n')\n",
    "    print()\n",
    "    \n",
    "print_table(marginal,empirical)"
   ]
  },
  {
   "cell_type": "markdown",
   "metadata": {},
   "source": [
    "#### 4. State for which variables other than $G$ the theoretical scheme above can be used to compute such conditionals, and why.\n",
    "\n",
    "> Region and Gender, because they are start node and not condition on other nodes, therefore we can set one of its outcome become 1 and others 0 to compute conditional distribution. "
   ]
  },
  {
   "cell_type": "markdown",
   "metadata": {},
   "source": [
    "### 1B5 (3 marks) General conditional probabilities\n",
    "\n",
    "1. Write down the expression of the joint probability $p(R,G,H,J,A,C,V)$ in terms of the conditional probabilities in the graphical model.\n",
    "- Derive $p(G = male \\,|\\, V = Donald)$ in terms of the conditional probabilities of the graphical model.\n",
    "- Compute and display in a human friendly format the conditional distributions $p(G=g \\,|\\, V=v)$ for all genders $g$ and votes $v$, by naively marginalising the other variables (other than $G$ and $V$, that is)."
   ]
  },
  {
   "cell_type": "markdown",
   "metadata": {
    "collapsed": true
   },
   "source": [
    "### Solution description"
   ]
  },
  {
   "cell_type": "markdown",
   "metadata": {},
   "source": [
    "#### 1. Write down the expression of the joint probability  p(R,G,H,J,A,C,V)in terms of the conditional probabilities in the graphical model."
   ]
  },
  {
   "cell_type": "markdown",
   "metadata": {},
   "source": [
    "  \n",
    "$$p(R,G,H,J,A,C,V) = p(R)p(G)p(H)p(J\\,|\\,R,G)p(A\\,|\\,J)p(C\\,|\\,G,H)p(V\\,|\\,R,A,C)$$\n",
    "\n",
    "#### 2. Derive  p(G=male|V=Donald) in terms of the conditional probabilities of the graphical model.\n",
    "\n",
    "$$p(G \\,|\\, V) = \\frac{p(G,V )}{p(V)} $$\n",
    "\n",
    "$$p(G \\,|\\, V) = \\frac{\\sum\\limits_{R,H,J,A,C}p(R,G,H,J,A,C,V)}{\\sum\\limits_{R,G,H,J,A,C}p(R,G,H,J,A,C,V)} \\tag{Sum Rule}$$\n",
    "\n",
    "\n",
    "\n",
    "\n"
   ]
  },
  {
   "cell_type": "markdown",
   "metadata": {},
   "source": [
    "#### 3. Compute and display in a human friendly format the conditional distributions  p(G=g|V=v)"
   ]
  },
  {
   "cell_type": "code",
   "execution_count": 16,
   "metadata": {
    "collapsed": false
   },
   "outputs": [
    {
     "name": "stdout",
     "output_type": "stream",
     "text": [
      "p( G | V )\n",
      "p( male | bernie )=0.40\n",
      "p( male | donald )=0.21\n",
      "p( male |hillary )=0.36\n",
      "p( male |  ted   )=0.28\n",
      "p(female| bernie )=0.60\n",
      "p(female| donald )=0.79\n",
      "p(female|hillary )=0.64\n",
      "p(female|  ted   )=0.72\n"
     ]
    }
   ],
   "source": [
    "# Solution goes here\n",
    "def compute_P_G_given_V(model):\n",
    "    #declear result dict\n",
    "    p_G_given_V={}\n",
    "    #Using new model which is elminated H\n",
    "    ordering=determine_order(model)\n",
    "    #Use new ordering for computing\n",
    "    p_G_V = compute_multinodes_marginal(ordering,(gender,vote))\n",
    "    p_V = compute_onenode_marginal(ordering,vote)\n",
    "\n",
    "    for j in p_G_V:\n",
    "        p_G_given_V[j] =p_G_V[j]/p_V[j[1]]\n",
    "    return p_G_given_V\n",
    "\n",
    "p_G_given_V =compute_P_G_given_V(election_model)\n",
    "print('p( G | V )')\n",
    "for j in p_G_given_V:\n",
    "    print('p({:^6}|{:^8})={:2.2f}'.format(j[0],j[1],p_G_given_V[j]))\n",
    "\n"
   ]
  },
  {
   "cell_type": "markdown",
   "metadata": {},
   "source": [
    "### 1B6 (2 marks) Variable elimination\n",
    "\n",
    "Denote the graphical model consider thus far $\\mathcal{M}$.\n",
    "\n",
    "1. Derive $p(R,G,J,A,C,V)$ by marginalising over $H$ in $\\mathcal{M}$. \n",
    "- Describe how the structure (connectivity) of the new graphical model (call it $\\mathcal{M}_H$) over all variables other than $H$ changes after eliminating $H$ in this way.\n",
    "- Describe which conditional(s) in the new graphical model differ from the original model.\n",
    "- Encode the $\\mathcal{M}_H$ in python similarly to $\\mathcal{M}$. "
   ]
  },
  {
   "cell_type": "markdown",
   "metadata": {},
   "source": [
    "#### 1. Derive $p(R,G,J,A,C,V)$ by marginalising over $H$ in $\\mathcal{M}$. \n",
    "$$p(R,G,H,J,A,C,V) = p(R)p(G)p(H)p(J\\,|\\,R,G)p(A\\,|\\,J)p(C\\,|\\,G,H)p(V\\,|\\,R,A,C)$$\n",
    "\n",
    "$$p(R,G,J,A,C,V) = \\sum\\limits_{H}p(R)p(G)p(H)p(J\\,|\\,R,G)p(A\\,|\\,J)p(C\\,|\\,G,H)p(V\\,|\\,R,A,C)$$\n",
    "\n",
    "$$p(R,G,J,A,C,V) = p(R)p(G)p(H)p(J\\,|\\,R,G)p(A\\,|\\,J)p(V\\,|\\,R,A,C)\\sum\\limits_{H}p(H)p(C\\,|\\,G,H)$$\n"
   ]
  },
  {
   "cell_type": "markdown",
   "metadata": {},
   "source": [
    "#### 2. Describe how the structure (connectivity) of the new graphical model \n",
    "> p(H) disappear, and Gender point to C directly\n",
    "\n",
    "$$p(R,G,J,A,C,V) = p(R)p(G)p(H)p(J\\,|\\,R,G)p(A\\,|\\,J)p(V\\,|\\,R,A,C)p(C\\,|G)$$"
   ]
  },
  {
   "cell_type": "markdown",
   "metadata": {},
   "source": [
    "#### 3. Describe which conditional(s) in the new graphical model differ from the original model.\n",
    "> The conditional probility of C is different because in the new model $\\mathcal{M}_H$\n",
    "\n",
    "$$p(C|G) = \\sum\\limits_{H}p(H)p(C\\,|\\,G,H) $$"
   ]
  },
  {
   "cell_type": "code",
   "execution_count": 17,
   "metadata": {
    "collapsed": false
   },
   "outputs": [
    {
     "name": "stdout",
     "output_type": "stream",
     "text": [
      "New P(C|G) is:\n",
      "p(black | male )=0.893\n",
      "p(black |female)=0.18300000000000002\n",
      "p(white | male )=0.10700000000000001\n",
      "p(white |female)=0.817\n"
     ]
    }
   ],
   "source": [
    "def p_C_given_G(ordering):\n",
    "    result = {(name):0 for name in itertools.product(*[colour.outcomes,gender.outcomes])}\n",
    "    flatten = lambda *n: (e for a in n for e in (flatten(*a) if isinstance(a, (tuple, list)) else (a,))) \n",
    "    joint_outcomes = list(flatten([n.outcomes for n in (colour,gender)]))\n",
    "  \n",
    "    #Compute the p(C,G) = sum{H} of P(C,G,H)\n",
    "    for instance in itertools.product(colour.outcomes, gender.outcomes, hand.outcomes):\n",
    "        product = 1\n",
    "        product *= compute_node_probility(hand,instance)*compute_node_probility(colour,instance)\n",
    "        out = set(instance) & set(joint_outcomes)\n",
    "        for r in result:\n",
    "            if set(r)==out:\n",
    "                result[r] += product\n",
    "    return result\n",
    "\n",
    "\n",
    "#Compute new P(C|G) instead of P(C|G,H)\n",
    "p_C_givenG = p_C_given_G(ordering)\n",
    "print('New P(C|G) is:')\n",
    "for i in p_C_givenG:\n",
    "    print('p({:^6}|{:^6})={}'.format(i[0],i[1],p_C_givenG[i]))"
   ]
  },
  {
   "cell_type": "markdown",
   "metadata": {},
   "source": [
    "#### 4. Encode the $\\mathcal{M}_H$ in python similarly to $\\mathcal{M}$. "
   ]
  },
  {
   "cell_type": "code",
   "execution_count": 18,
   "metadata": {
    "collapsed": false
   },
   "outputs": [],
   "source": [
    "#Construct new model, modify the differed nodes \n",
    "colour_new_pmf_array = np.array(\n",
    "        [\n",
    "            #New conditional probility compute in previous question\n",
    "            [0.89,0.18],\n",
    "            [0.11,0.82],\n",
    "        ]\n",
    "    )\n",
    "colour = RandomVariable(\n",
    "    name='colour',\n",
    "    parents=(gender,),\n",
    "    outcomes=('black', 'white'),\n",
    "    pmf_array = colour_new_pmf_array\n",
    ")\n",
    "\n",
    "vote = RandomVariable(\n",
    "    name='vote',\n",
    "    parents=(region, age, colour),\n",
    "    outcomes=vote_outcomes,\n",
    "    pmf_array = vote_pmf_array\n",
    ")\n",
    "\n",
    "#New model M_H\n",
    "new_election_model = BayesianNetwork(region, gender, jacket, age, colour, vote)"
   ]
  },
  {
   "cell_type": "markdown",
   "metadata": {},
   "source": [
    "### 1B6 (3 marks) General estimation of conditional probabilities (revisited)\n",
    "\n",
    "1. As you did earlier, compute and display in a human friendly format the conditional distributions $p(G=g \\,|\\, V=v)$ for all genders $g$ and votes $v$, by naively marginalising the other variables (other than $G$ and $V$, that is). This time however, do so using $\\mathcal{M}_H$ rather than $\\mathcal{M}$.\n",
    "- Quantify the computational advantages of using $\\mathcal{M}_H$ in this way rather than $\\mathcal{M}$.\n",
    "- Which variable (or variables) would be the best to eliminate in this way, in terms of the aforementioned computational advantages, and why?\n",
    "- Pick a (best) variable from the previous question and call it $X$. Assuming we have eliminated $X$, which would be the \"best\" variable to subsequently eliminate in a similar fashion?"
   ]
  },
  {
   "cell_type": "code",
   "execution_count": 19,
   "metadata": {
    "collapsed": false
   },
   "outputs": [
    {
     "name": "stdout",
     "output_type": "stream",
     "text": [
      "p(G|V) is:\n",
      "p( male | bernie )=0.40\n",
      "p( male | donald )=0.21\n",
      "p( male |hillary )=0.36\n",
      "p( male |  ted   )=0.28\n",
      "p(female| bernie )=0.60\n",
      "p(female| donald )=0.79\n",
      "p(female|hillary )=0.64\n",
      "p(female|  ted   )=0.72\n"
     ]
    }
   ],
   "source": [
    "# Solution goes here\n",
    "#Use previous new model to compute p(G|V)\n",
    "p_G_given_V =compute_P_G_given_V(new_election_model)\n",
    "print('p(G|V) is:')\n",
    "for j in p_G_given_V:\n",
    "    print('p({:^6}|{:^8})={:2.2f}'.format(j[0],j[1],p_G_given_V[j]))"
   ]
  },
  {
   "cell_type": "markdown",
   "metadata": {},
   "source": [
    "#### 2. Quantify the computational advantages of using $\\mathcal{M}_H$\n",
    "> Reduce computational complexity, we only keep the variable that we are interested in, reduce the number of variables"
   ]
  },
  {
   "cell_type": "markdown",
   "metadata": {},
   "source": [
    "#### 3. Which variable (or variables) would be the best to eliminate in this way, in terms of the aforementioned computational advantages, and why?"
   ]
  },
  {
   "cell_type": "markdown",
   "metadata": {},
   "source": [
    "> Beside Hand, the best choice is Age and Colour \n",
    "\n",
    "> Because we should eliminate variable with fewest neighbors and fewest fill-in edges\n",
    " \n",
    " ** Reference ** Variable Elimination http://users.cecs.anu.edu.au/~jinbo/pr/lss4.pdf pg.15"
   ]
  },
  {
   "cell_type": "markdown",
   "metadata": {},
   "source": [
    "#### 4. Pick a (best) variable from the previous question and call it $X$. Assuming we have eliminated $X$, which would be the \"best\" variable to subsequently eliminate in a similar fashion?"
   ]
  },
  {
   "cell_type": "markdown",
   "metadata": {},
   "source": [
    "> After we eliminate Age, then eliminate Colour "
   ]
  },
  {
   "cell_type": "markdown",
   "metadata": {},
   "source": [
    "## Part 2: Theory"
   ]
  },
  {
   "cell_type": "markdown",
   "metadata": {},
   "source": [
    "### 2A (3 marks) Functions of random variables\n",
    "\n",
    "$u$ and $v$ are independently sampled from the standard uniform distribution on the unit interval, $[0,1]$. \n",
    "\n",
    "If $s=(2u-1)^2+(2v-1)^2 \\geq 1$ then $x$ is sampled from the standard normal distribution, $\\mathcal{N}(0,1)$. Otherwise $x=(2u-1)\\sqrt{-2 \\log(s)/s}$.\n",
    "\n",
    "How is $x$ distributed?"
   ]
  },
  {
   "cell_type": "markdown",
   "metadata": {},
   "source": [
    "### Solution description"
   ]
  },
  {
   "cell_type": "markdown",
   "metadata": {},
   "source": []
  },
  {
   "cell_type": "markdown",
   "metadata": {},
   "source": [
    "$$p(x) = \\int^{s} \\int^{u} \\int^{v}  p(x,s,u,v)dsdudv$$\n",
    "$$=\\int^{s} \\int^{u} \\int^{v} p(x|s)p(s|u,v)p(u)p(v)dsdudv$$\n",
    "\n",
    "> Since $p(u)=1$ $p(v)=1$\n",
    "\n",
    "$$=\\int^{u} \\int^{v} p(x|s\\geq 1) p(s\\geq 1|u,v)dudv + \\int^{u} \\int^{v} p(x|s < 1) p(s< 1|u,v)dudv$$\n",
    "\n",
    "> We have \n",
    "\n",
    "$$p(x|s\\geq 1) = \\frac{1}{\\sqrt{2\\pi}}e^{-x^2}$$\n",
    "\n",
    "$$p(x|s < 1) = (2u-1)\\sqrt{-2 \\log(s)/s}$$\n",
    "\n",
    "$$p(s\\geq 1|u,v) = p((2u-1)^2+(2v-1)^2 \\geq 1| u,v)$$\n",
    "$$p(s< 1|u,v) = p((2u-1)^2+(2v-1)^2 < 1| u,v)$$\n",
    "\n",
    "$$=\\int^{1}_{0} \\int^{1}_{0} \\frac{1}{\\sqrt{2\\pi}}e^{-x^2} \\cdot p((2u-1)^2+(2v-1)^2 \\geq 1| u,v)dudv + \\int^{1}_{0} \\int^{1}_{0} (2u-1)\\sqrt{-2 \\log(s)/s} \\cdot p((2u-1)^2+(2v-1)^2 < 1| u,v)dudv$$\n",
    "\n"
   ]
  },
  {
   "cell_type": "markdown",
   "metadata": {},
   "source": [
    "$$=\\frac{1}{\\sqrt{2\\pi}}e^{-x^2}\\int^{1}_{0} \\int^{1}_{0} p((u-\\frac{1}{2})^2+(v-\\frac{1}{2})^2 \\geq \\frac{1}{4}| u,v)dudv+\\int^{1}_{0} \\int^{1}_{0} (u-1)\\sqrt{-2 \\log(s)/s} \\cdot p((u-\\frac{1}{2})^2+(v-\\frac{1}{2})^2 < \\frac{1}{4}| u,v)dudv$$\n",
    "\n",
    "$$\\rho cos\\theta = u-\\frac{1}{2}$$\n",
    "$$\\rho sin\\theta = v-\\frac{1}{2}$$\n",
    "$$x = cos\\theta\\sqrt{-4ln\\rho}\\tag{Substitution}$$\n",
    "$$x^2 = -4cos^2\\theta ln\\rho$$\n",
    "$$\\rho = e^{\\frac{-x^2}{4cos^2\\theta}}$$"
   ]
  },
  {
   "cell_type": "markdown",
   "metadata": {},
   "source": [
    "$$=\\frac{1}{\\sqrt{2\\pi}}e^{-x^2}\\cdot\\frac{1}{4}\\pi + \\frac{1}{\\sqrt{2\\pi}}e^{-x^2}\\cdot(1-\\frac{1}{4}\\pi) $$\n",
    "$$=\\frac{1}{\\sqrt{2\\pi}}e^{-x^2}$$\n",
    "> So $x$ ~ $\\mathcal{N}(0,1) $"
   ]
  }
 ],
 "metadata": {
  "kernelspec": {
   "display_name": "Python 3",
   "language": "python",
   "name": "python3"
  },
  "language_info": {
   "codemirror_mode": {
    "name": "ipython",
    "version": 3
   },
   "file_extension": ".py",
   "mimetype": "text/x-python",
   "name": "python",
   "nbconvert_exporter": "python",
   "pygments_lexer": "ipython3",
   "version": "3.6.0"
  }
 },
 "nbformat": 4,
 "nbformat_minor": 0
}
